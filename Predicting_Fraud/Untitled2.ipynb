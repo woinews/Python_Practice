{
 "cells": [
  {
   "cell_type": "code",
   "execution_count": 1,
   "metadata": {
    "collapsed": true
   },
   "outputs": [],
   "source": [
    "import numpy as np\n",
    "import pandas as pd \n",
    "\n",
    "#导入处理分类特征的库\n",
    "from sklearn.preprocessing import LabelEncoder\n",
    "\n",
    "#防止对运行没有影响的报错信息出现\n",
    "import warnings\n",
    "warnings.filterwarnings('ignore')\n",
    "\n",
    "# 导入绘图库\n",
    "import matplotlib.pyplot as plt\n",
    "import seaborn as sns"
   ]
  },
  {
   "cell_type": "code",
   "execution_count": 2,
   "metadata": {},
   "outputs": [
    {
     "name": "stdout",
     "output_type": "stream",
     "text": [
      "Training data shape:  (307511, 122)\n",
      "Testing data shape:  (48744, 121)\n"
     ]
    },
    {
     "data": {
      "text/plain": [
       "float64    65\n",
       "int64      41\n",
       "object     16\n",
       "dtype: int64"
      ]
     },
     "execution_count": 2,
     "metadata": {},
     "output_type": "execute_result"
    }
   ],
   "source": [
    "#导入训练数据\n",
    "app_train = pd.read_csv(r'D:\\datasheet\\Credit_Default_Risk\\application_train.csv')\n",
    "print('Training data shape: ', app_train.shape)\n",
    "\n",
    "#导入测试数据\n",
    "app_test = pd.read_csv(r'D:\\datasheet\\Credit_Default_Risk\\application_test.csv')\n",
    "print('Testing data shape: ', app_test.shape)\n",
    "\n",
    "app_train['TARGET'].value_counts()\n",
    "\n",
    "plt.figure(\"hist\",figsize=(12,12))\n",
    "plt.subplot(331)\n",
    "plt.hist(app_train['TARGET'])\n",
    "\n",
    "#观察数据及缺失值\n",
    "explore = app_train.describe().T\n",
    "explore[\"null\"] = app_train.isnull().sum()\n",
    "explore[\"Proportion\"] = explore[\"null\"]/len(app_train)\n",
    "explore.loc[explore[\"null\"] != 0,[\"null\",\"Proportion\"]].sort_values('Proportion',ascending=False)\n",
    "\n",
    "\n",
    "#查看每个数据类型的字段个数\n",
    "app_train.dtypes.value_counts()"
   ]
  },
  {
   "cell_type": "code",
   "execution_count": 3,
   "metadata": {},
   "outputs": [
    {
     "name": "stdout",
     "output_type": "stream",
     "text": [
      "3 columns were label encoded.\n"
     ]
    }
   ],
   "source": [
    "#查看每个对象列中分类的个数\n",
    "app_train.select_dtypes('object').apply(pd.Series.nunique, axis = 0)\n",
    "\n",
    "'''分类字段规整处理:\n",
    "    1、如果分类字段只有两个类别，则用LabelEncoder对其进行分类（0-1）\n",
    "    2、如果分类字段中有多个类别，则用one-hot encoding对其进行分类 \n",
    "    one-hot encoding是给分类变量中的每个唯一类别创建一个新列\n",
    "'''\n",
    "    \n",
    "# 创建LabelEncoder对象\n",
    "le = LabelEncoder()\n",
    "le_count = 0\n",
    "\n",
    "# 遍历所有的列\n",
    "for col in app_train:\n",
    "    if app_train[col].dtype == 'object':\n",
    "        # 如果分类字段中的类别数小于等于2\n",
    "        if len(list(app_train[col].unique())) <= 2:\n",
    "            # 对训练数据进行训练\n",
    "            le.fit(app_train[col])\n",
    "            # 对训练数据和测试数据进行转换\n",
    "            app_train[col] = le.transform(app_train[col])\n",
    "            app_test[col] = le.transform(app_test[col])\n",
    "            \n",
    "            # 记录LabelEncoder处理字段的个数\n",
    "            le_count += 1\n",
    "            \n",
    "print('%d columns were label encoded.' % le_count)"
   ]
  },
  {
   "cell_type": "code",
   "execution_count": 4,
   "metadata": {},
   "outputs": [
    {
     "name": "stdout",
     "output_type": "stream",
     "text": [
      "Training Features shape:  (307511, 243)\n",
      "Testing Features shape:  (48744, 239)\n",
      "Training Features shape:  (307511, 240)\n",
      "Testing Features shape:  (48744, 239)\n"
     ]
    },
    {
     "data": {
      "text/plain": [
       "count    307511.000000\n",
       "mean         43.936973\n",
       "std          11.956133\n",
       "min          20.517808\n",
       "25%          34.008219\n",
       "50%          43.150685\n",
       "75%          53.923288\n",
       "max          69.120548\n",
       "Name: DAYS_BIRTH, dtype: float64"
      ]
     },
     "execution_count": 4,
     "metadata": {},
     "output_type": "execute_result"
    }
   ],
   "source": [
    "# 使用.get_dummies方法对多分类变量进行重新编码（one-hot encoding）\n",
    "app_train = pd.get_dummies(app_train)\n",
    "app_test = pd.get_dummies(app_test)\n",
    "\n",
    "print('Training Features shape: ', app_train.shape)\n",
    "print('Testing Features shape: ', app_test.shape)\n",
    "\n",
    "#因为用one-hot encoding进行重新编码会产生新的列，所以需要将训练数据和测试数据进行对齐\n",
    "train_labels = app_train['TARGET']\n",
    "\n",
    "#指定列（axis = 1）进行对齐，而不是行\n",
    "app_train, app_test = app_train.align(app_test, join = 'inner', axis = 1)\n",
    "\n",
    "# 重新添加目标\n",
    "app_train['TARGET'] = train_labels\n",
    "\n",
    "print('Training Features shape: ', app_train.shape)\n",
    "print('Testing Features shape: ', app_test.shape)\n",
    "\n",
    "\n",
    "(app_train['DAYS_BIRTH'] / -365).describe()"
   ]
  },
  {
   "cell_type": "code",
   "execution_count": 7,
   "metadata": {},
   "outputs": [
    {
     "data": {
      "image/png": "[encoded data removed]",
      "text/plain": [
       "<matplotlib.figure.Figure at 0xb2d95f8>"
      ]
     },
     "metadata": {},
     "output_type": "display_data"
    }
   ],
   "source": [
    "#观察数据发现DAYS_BIRTH（用户的出生日期）为负值，这是相对于贷款日期来进行计算的【即出生至贷款发生的日期】\n",
    "#观察汇总内容没发现异常值\n",
    "app_train['DAYS_BIRTH'].describe()\n",
    "\n",
    "\n",
    "#观察DAYS_EMPLOYED字段，发现最大值为365243（1000年）出现异常\n",
    "app_train['DAYS_EMPLOYED'].describe()\n",
    "\n",
    "#绘制DAYS_EMPLOYED数据点分布直方图\n",
    "plt.hist(app_train['DAYS_EMPLOYED'])\n",
    "plt.title(\"Days Employment\") \n",
    "plt.show()"
   ]
  },
  {
   "cell_type": "code",
   "execution_count": null,
   "metadata": {
    "collapsed": true
   },
   "outputs": [],
   "source": []
  }
 ],
 "metadata": {
  "kernelspec": {
   "display_name": "Python 3",
   "language": "python",
   "name": "python3"
  },
  "language_info": {
   "codemirror_mode": {
    "name": "ipython",
    "version": 3
   },
   "file_extension": ".py",
   "mimetype": "text/x-python",
   "name": "python",
   "nbconvert_exporter": "python",
   "pygments_lexer": "ipython3",
   "version": "3.6.3"
  }
 },
 "nbformat": 4,
 "nbformat_minor": 2
}
